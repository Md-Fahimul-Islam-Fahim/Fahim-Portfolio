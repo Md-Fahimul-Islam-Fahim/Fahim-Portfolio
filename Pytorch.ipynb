{
  "nbformat": 4,
  "nbformat_minor": 0,
  "metadata": {
    "colab": {
      "provenance": [],
      "authorship_tag": "ABX9TyMNFLPqdL7jvQ4HgXpA21g/",
      "include_colab_link": true
    },
    "kernelspec": {
      "name": "python3",
      "display_name": "Python 3"
    },
    "language_info": {
      "name": "python"
    }
  },
  "cells": [
    {
      "cell_type": "markdown",
      "metadata": {
        "id": "view-in-github",
        "colab_type": "text"
      },
      "source": [
        "<a href=\"https://colab.research.google.com/github/Md-Fahimul-Islam-Fahim/Fahim-Portfolio/blob/main/Pytorch.ipynb\" target=\"_parent\"><img src=\"https://colab.research.google.com/assets/colab-badge.svg\" alt=\"Open In Colab\"/></a>"
      ]
    },
    {
      "cell_type": "code",
      "source": [],
      "metadata": {
        "id": "RMopyBp5cnUa"
      },
      "execution_count": null,
      "outputs": []
    },
    {
      "cell_type": "code",
      "execution_count": 1,
      "metadata": {
        "id": "vhDQgeFVbvCR",
        "colab": {
          "base_uri": "https://localhost:8080/"
        },
        "outputId": "30ce85e6-b45b-41e4-fc7c-8bea0254c6a7"
      },
      "outputs": [
        {
          "output_type": "stream",
          "name": "stdout",
          "text": [
            "Enter a number: 12\n",
            "not prime\n"
          ]
        }
      ],
      "source": [
        "import torch\n",
        "\n",
        "# Input from the user\n",
        "a = int(input('Enter a number: '))\n",
        "\n",
        "# Convert the number into a PyTorch tensor\n",
        "a_tensor = torch.tensor(a)\n",
        "\n",
        "# Initialize counter for divisors\n",
        "c = 0\n",
        "\n",
        "# Loop through all numbers from 1 to a\n",
        "for x in range(1, a + 1):\n",
        "    # Convert x to tensor for PyTorch operation\n",
        "    x_tensor = torch.tensor(x)\n",
        "\n",
        "    # Check if x is a divisor of a (using tensor operation)\n",
        "    if a_tensor % x_tensor == 0:\n",
        "        c += 1\n",
        "\n",
        "# Check if the number has exactly two divisors (i.e., it is prime)\n",
        "if c == 2:\n",
        "    print('prime')\n",
        "else:\n",
        "    print('not prime')"
      ]
    }
  ]
}